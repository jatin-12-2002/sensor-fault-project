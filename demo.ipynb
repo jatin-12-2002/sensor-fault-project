{
 "cells": [
  {
   "cell_type": "code",
   "execution_count": 1,
   "metadata": {},
   "outputs": [],
   "source": [
    "from sensor.utils.main_utils import read_yaml_file, write_yaml_file"
   ]
  },
  {
   "cell_type": "code",
   "execution_count": 2,
   "metadata": {},
   "outputs": [],
   "source": [
    "file_path = r\"C:\\Users\\HIMALAYA\\OneDrive\\Desktop\\YMCA\\Projectmain\\DAY 8\\sensor-fault-project\\config\\schema.yaml\""
   ]
  },
  {
   "cell_type": "code",
   "execution_count": 3,
   "metadata": {},
   "outputs": [],
   "source": [
    "schema_config = read_yaml_file(file_path)"
   ]
  },
  {
   "cell_type": "code",
   "execution_count": 4,
   "metadata": {},
   "outputs": [
    {
     "data": {
      "text/plain": [
       "{'columns': [{'class': 'category'},\n",
       "  {'aa_000': 'int'},\n",
       "  {'ac_000': 'int'},\n",
       "  {'ad_000': 'int'},\n",
       "  {'ae_000': 'int'},\n",
       "  {'af_000': 'int'},\n",
       "  {'ag_000': 'int'},\n",
       "  {'ag_001': 'int'},\n",
       "  {'ag_002': 'int'},\n",
       "  {'ag_003': 'int'},\n",
       "  {'ag_004': 'int'},\n",
       "  {'ag_005': 'int'},\n",
       "  {'ag_006': 'int'},\n",
       "  {'ag_007': 'int'},\n",
       "  {'ag_008': 'int'},\n",
       "  {'ag_009': 'int'},\n",
       "  {'ah_000': 'int'},\n",
       "  {'ai_000': 'int'},\n",
       "  {'aj_000': 'int'},\n",
       "  {'ak_000': 'int'},\n",
       "  {'al_000': 'int'},\n",
       "  {'am_0': 'int'},\n",
       "  {'an_000': 'int'},\n",
       "  {'ao_000': 'int'},\n",
       "  {'ap_000': 'int'},\n",
       "  {'aq_000': 'int'},\n",
       "  {'ar_000': 'int'},\n",
       "  {'as_000': 'int'},\n",
       "  {'at_000': 'int'},\n",
       "  {'au_000': 'int'},\n",
       "  {'av_000': 'int'},\n",
       "  {'ax_000': 'int'},\n",
       "  {'ay_000': 'int'},\n",
       "  {'ay_001': 'int'},\n",
       "  {'ay_002': 'int'},\n",
       "  {'ay_003': 'int'},\n",
       "  {'ay_004': 'int'},\n",
       "  {'ay_005': 'int'},\n",
       "  {'ay_006': 'int'},\n",
       "  {'ay_007': 'int'},\n",
       "  {'ay_008': 'int'},\n",
       "  {'ay_009': 'int'},\n",
       "  {'az_000': 'int'},\n",
       "  {'az_001': 'int'},\n",
       "  {'az_002': 'int'},\n",
       "  {'az_003': 'int'},\n",
       "  {'az_004': 'int'},\n",
       "  {'az_005': 'int'},\n",
       "  {'az_006': 'int'},\n",
       "  {'az_007': 'int'},\n",
       "  {'az_008': 'int'},\n",
       "  {'az_009': 'int'},\n",
       "  {'ba_000': 'int'},\n",
       "  {'ba_001': 'int'},\n",
       "  {'ba_002': 'int'},\n",
       "  {'ba_003': 'int'},\n",
       "  {'ba_004': 'int'},\n",
       "  {'ba_005': 'int'},\n",
       "  {'ba_006': 'int'},\n",
       "  {'ba_007': 'int'},\n",
       "  {'ba_008': 'int'},\n",
       "  {'ba_009': 'int'},\n",
       "  {'bb_000': 'int'},\n",
       "  {'bc_000': 'int'},\n",
       "  {'bd_000': 'int'},\n",
       "  {'be_000': 'int'},\n",
       "  {'bf_000': 'int'},\n",
       "  {'bg_000': 'int'},\n",
       "  {'bh_000': 'int'},\n",
       "  {'bi_000': 'int'},\n",
       "  {'bj_000': 'int'},\n",
       "  {'bk_000': 'int'},\n",
       "  {'bl_000': 'int'},\n",
       "  {'bm_000': 'int'},\n",
       "  {'bs_000': 'int'},\n",
       "  {'bt_000': 'int'},\n",
       "  {'bu_000': 'int'},\n",
       "  {'bv_000': 'int'},\n",
       "  {'bx_000': 'int'},\n",
       "  {'by_000': 'int'},\n",
       "  {'bz_000': 'int'},\n",
       "  {'ca_000': 'int'},\n",
       "  {'cb_000': 'int'},\n",
       "  {'cc_000': 'int'},\n",
       "  {'cd_000': 'int'},\n",
       "  {'ce_000': 'int'},\n",
       "  {'cf_000': 'int'},\n",
       "  {'cg_000': 'int'},\n",
       "  {'ch_000': 'int'},\n",
       "  {'ci_000': 'int'},\n",
       "  {'cj_000': 'int'},\n",
       "  {'ck_000': 'int'},\n",
       "  {'cl_000': 'int'},\n",
       "  {'cm_000': 'int'},\n",
       "  {'cn_000': 'int'},\n",
       "  {'cn_001': 'int'},\n",
       "  {'cn_002': 'int'},\n",
       "  {'cn_003': 'int'},\n",
       "  {'cn_004': 'int'},\n",
       "  {'cn_005': 'int'},\n",
       "  {'cn_006': 'int'},\n",
       "  {'cn_007': 'int'},\n",
       "  {'cn_008': 'int'},\n",
       "  {'cn_009': 'int'},\n",
       "  {'co_000': 'int'},\n",
       "  {'cp_000': 'int'},\n",
       "  {'cq_000': 'int'},\n",
       "  {'cs_000': 'int'},\n",
       "  {'cs_001': 'int'},\n",
       "  {'cs_002': 'int'},\n",
       "  {'cs_003': 'int'},\n",
       "  {'cs_004': 'int'},\n",
       "  {'cs_005': 'int'},\n",
       "  {'cs_006': 'int'},\n",
       "  {'cs_007': 'int'},\n",
       "  {'cs_008': 'int'},\n",
       "  {'cs_009': 'int'},\n",
       "  {'ct_000': 'int'},\n",
       "  {'cu_000': 'int'},\n",
       "  {'cv_000': 'int'},\n",
       "  {'cx_000': 'int'},\n",
       "  {'cy_000': 'int'},\n",
       "  {'cz_000': 'int'},\n",
       "  {'da_000': 'int'},\n",
       "  {'db_000': 'int'},\n",
       "  {'dc_000': 'int'},\n",
       "  {'dd_000': 'int'},\n",
       "  {'de_000': 'int'},\n",
       "  {'df_000': 'int'},\n",
       "  {'dg_000': 'int'},\n",
       "  {'dh_000': 'int'},\n",
       "  {'di_000': 'int'},\n",
       "  {'dj_000': 'int'},\n",
       "  {'dk_000': 'int'},\n",
       "  {'dl_000': 'int'},\n",
       "  {'dm_000': 'int'},\n",
       "  {'dn_000': 'int'},\n",
       "  {'do_000': 'int'},\n",
       "  {'dp_000': 'int'},\n",
       "  {'dq_000': 'int'},\n",
       "  {'dr_000': 'int'},\n",
       "  {'ds_000': 'int'},\n",
       "  {'dt_000': 'int'},\n",
       "  {'du_000': 'int'},\n",
       "  {'dv_000': 'int'},\n",
       "  {'dx_000': 'int'},\n",
       "  {'dy_000': 'int'},\n",
       "  {'dz_000': 'int'},\n",
       "  {'ea_000': 'int'},\n",
       "  {'eb_000': 'int'},\n",
       "  {'ec_00': 'int'},\n",
       "  {'ed_000': 'int'},\n",
       "  {'ee_000': 'int'},\n",
       "  {'ee_001': 'int'},\n",
       "  {'ee_002': 'int'},\n",
       "  {'ee_003': 'int'},\n",
       "  {'ee_004': 'int'},\n",
       "  {'ee_005': 'int'},\n",
       "  {'ee_006': 'int'},\n",
       "  {'ee_007': 'int'},\n",
       "  {'ee_008': 'int'},\n",
       "  {'ee_009': 'int'},\n",
       "  {'ef_000': 'int'},\n",
       "  {'eg_000': 'int'}],\n",
       " 'numerical_columns': ['aa_000',\n",
       "  'ac_000',\n",
       "  'ad_000',\n",
       "  'ae_000',\n",
       "  'af_000',\n",
       "  'ag_000',\n",
       "  'ag_001',\n",
       "  'ag_002',\n",
       "  'ag_003',\n",
       "  'ag_004',\n",
       "  'ag_005',\n",
       "  'ag_006',\n",
       "  'ag_007',\n",
       "  'ag_008',\n",
       "  'ag_009',\n",
       "  'ah_000',\n",
       "  'ai_000',\n",
       "  'aj_000',\n",
       "  'ak_000',\n",
       "  'al_000',\n",
       "  'am_0',\n",
       "  'an_000',\n",
       "  'ao_000',\n",
       "  'ap_000',\n",
       "  'aq_000',\n",
       "  'ar_000',\n",
       "  'as_000',\n",
       "  'at_000',\n",
       "  'au_000',\n",
       "  'av_000',\n",
       "  'ax_000',\n",
       "  'ay_000',\n",
       "  'ay_001',\n",
       "  'ay_002',\n",
       "  'ay_003',\n",
       "  'ay_004',\n",
       "  'ay_005',\n",
       "  'ay_006',\n",
       "  'ay_007',\n",
       "  'ay_008',\n",
       "  'ay_009',\n",
       "  'az_000',\n",
       "  'az_001',\n",
       "  'az_002',\n",
       "  'az_003',\n",
       "  'az_004',\n",
       "  'az_005',\n",
       "  'az_006',\n",
       "  'az_007',\n",
       "  'az_008',\n",
       "  'az_009',\n",
       "  'ba_000',\n",
       "  'ba_001',\n",
       "  'ba_002',\n",
       "  'ba_003',\n",
       "  'ba_004',\n",
       "  'ba_005',\n",
       "  'ba_006',\n",
       "  'ba_007',\n",
       "  'ba_008',\n",
       "  'ba_009',\n",
       "  'bb_000',\n",
       "  'bc_000',\n",
       "  'bd_000',\n",
       "  'be_000',\n",
       "  'bf_000',\n",
       "  'bg_000',\n",
       "  'bh_000',\n",
       "  'bi_000',\n",
       "  'bj_000',\n",
       "  'bk_000',\n",
       "  'bl_000',\n",
       "  'bm_000',\n",
       "  'bs_000',\n",
       "  'bt_000',\n",
       "  'bu_000',\n",
       "  'bv_000',\n",
       "  'bx_000',\n",
       "  'by_000',\n",
       "  'bz_000',\n",
       "  'ca_000',\n",
       "  'cb_000',\n",
       "  'cc_000',\n",
       "  'cd_000',\n",
       "  'ce_000',\n",
       "  'cf_000',\n",
       "  'cg_000',\n",
       "  'ch_000',\n",
       "  'ci_000',\n",
       "  'cj_000',\n",
       "  'ck_000',\n",
       "  'cl_000',\n",
       "  'cm_000',\n",
       "  'cn_000',\n",
       "  'cn_001',\n",
       "  'cn_002',\n",
       "  'cn_003',\n",
       "  'cn_004',\n",
       "  'cn_005',\n",
       "  'cn_006',\n",
       "  'cn_007',\n",
       "  'cn_008',\n",
       "  'cn_009',\n",
       "  'co_000',\n",
       "  'cp_000',\n",
       "  'cq_000',\n",
       "  'cs_000',\n",
       "  'cs_001',\n",
       "  'cs_002',\n",
       "  'cs_003',\n",
       "  'cs_004',\n",
       "  'cs_005',\n",
       "  'cs_006',\n",
       "  'cs_007',\n",
       "  'cs_008',\n",
       "  'cs_009',\n",
       "  'ct_000',\n",
       "  'cu_000',\n",
       "  'cv_000',\n",
       "  'cx_000',\n",
       "  'cy_000',\n",
       "  'cz_000',\n",
       "  'da_000',\n",
       "  'db_000',\n",
       "  'dc_000',\n",
       "  'dd_000',\n",
       "  'de_000',\n",
       "  'df_000',\n",
       "  'dg_000',\n",
       "  'dh_000',\n",
       "  'di_000',\n",
       "  'dj_000',\n",
       "  'dk_000',\n",
       "  'dl_000',\n",
       "  'dm_000',\n",
       "  'dn_000',\n",
       "  'do_000',\n",
       "  'dp_000',\n",
       "  'dq_000',\n",
       "  'dr_000',\n",
       "  'ds_000',\n",
       "  'dt_000',\n",
       "  'du_000',\n",
       "  'dv_000',\n",
       "  'dx_000',\n",
       "  'dy_000',\n",
       "  'dz_000',\n",
       "  'ea_000',\n",
       "  'eb_000',\n",
       "  'ec_00',\n",
       "  'ed_000',\n",
       "  'ee_000',\n",
       "  'ee_001',\n",
       "  'ee_002',\n",
       "  'ee_003',\n",
       "  'ee_004',\n",
       "  'ee_005',\n",
       "  'ee_006',\n",
       "  'ee_007',\n",
       "  'ee_008',\n",
       "  'ee_009',\n",
       "  'ef_000',\n",
       "  'eg_000'],\n",
       " 'drop_columns': ['br_000',\n",
       "  'bq_000',\n",
       "  'bp_000',\n",
       "  'ab_000',\n",
       "  'cr_000',\n",
       "  'bo_000',\n",
       "  'bn_000']}"
      ]
     },
     "execution_count": 4,
     "metadata": {},
     "output_type": "execute_result"
    }
   ],
   "source": [
    "schema_config"
   ]
  },
  {
   "cell_type": "code",
   "execution_count": 5,
   "metadata": {},
   "outputs": [
    {
     "data": {
      "text/plain": [
       "164"
      ]
     },
     "execution_count": 5,
     "metadata": {},
     "output_type": "execute_result"
    }
   ],
   "source": [
    "len(schema_config['columns'])"
   ]
  },
  {
   "cell_type": "code",
   "execution_count": 6,
   "metadata": {},
   "outputs": [],
   "source": [
    "import numpy as np"
   ]
  },
  {
   "cell_type": "code",
   "execution_count": 14,
   "metadata": {},
   "outputs": [],
   "source": [
    "d1 = np.arange(100,200)\n",
    "d2 = np.arange(10)"
   ]
  },
  {
   "cell_type": "code",
   "execution_count": 15,
   "metadata": {},
   "outputs": [
    {
     "data": {
      "text/plain": [
       "array([100, 101, 102, 103, 104, 105, 106, 107, 108, 109, 110, 111, 112,\n",
       "       113, 114, 115, 116, 117, 118, 119, 120, 121, 122, 123, 124, 125,\n",
       "       126, 127, 128, 129, 130, 131, 132, 133, 134, 135, 136, 137, 138,\n",
       "       139, 140, 141, 142, 143, 144, 145, 146, 147, 148, 149, 150, 151,\n",
       "       152, 153, 154, 155, 156, 157, 158, 159, 160, 161, 162, 163, 164,\n",
       "       165, 166, 167, 168, 169, 170, 171, 172, 173, 174, 175, 176, 177,\n",
       "       178, 179, 180, 181, 182, 183, 184, 185, 186, 187, 188, 189, 190,\n",
       "       191, 192, 193, 194, 195, 196, 197, 198, 199])"
      ]
     },
     "execution_count": 15,
     "metadata": {},
     "output_type": "execute_result"
    }
   ],
   "source": [
    "d1"
   ]
  },
  {
   "cell_type": "code",
   "execution_count": 16,
   "metadata": {},
   "outputs": [
    {
     "data": {
      "text/plain": [
       "array([0, 1, 2, 3, 4, 5, 6, 7, 8, 9])"
      ]
     },
     "execution_count": 16,
     "metadata": {},
     "output_type": "execute_result"
    }
   ],
   "source": [
    "d2"
   ]
  },
  {
   "cell_type": "code",
   "execution_count": 17,
   "metadata": {},
   "outputs": [],
   "source": [
    "from scipy.stats import ks_2samp"
   ]
  },
  {
   "cell_type": "code",
   "execution_count": 19,
   "metadata": {},
   "outputs": [],
   "source": [
    "test = ks_2samp(d1, d2)"
   ]
  },
  {
   "cell_type": "code",
   "execution_count": 20,
   "metadata": {},
   "outputs": [
    {
     "data": {
      "text/plain": [
       "KstestResult(statistic=1.0, pvalue=4.2646072253826637e-14, statistic_location=9, statistic_sign=-1)"
      ]
     },
     "execution_count": 20,
     "metadata": {},
     "output_type": "execute_result"
    }
   ],
   "source": [
    "test"
   ]
  },
  {
   "cell_type": "code",
   "execution_count": 22,
   "metadata": {},
   "outputs": [
    {
     "data": {
      "text/plain": [
       "0"
      ]
     },
     "execution_count": 22,
     "metadata": {},
     "output_type": "execute_result"
    }
   ],
   "source": [
    "round(test.pvalue)"
   ]
  },
  {
   "cell_type": "code",
   "execution_count": 27,
   "metadata": {},
   "outputs": [],
   "source": [
    "train_file_path = r\"C:\\Users\\HIMALAYA\\OneDrive\\Desktop\\YMCA\\Projectmain\\DAY 8\\sensor-fault-project\\artifact\\10_11_2023_02_47_23\\data_ingestion\\ingested\\train.csv\""
   ]
  },
  {
   "cell_type": "code",
   "execution_count": 28,
   "metadata": {},
   "outputs": [],
   "source": [
    "test_file_path = r\"C:\\Users\\HIMALAYA\\OneDrive\\Desktop\\YMCA\\Projectmain\\DAY 8\\sensor-fault-project\\artifact\\10_11_2023_02_47_23\\data_ingestion\\ingested\\test.csv\""
   ]
  },
  {
   "cell_type": "code",
   "execution_count": 29,
   "metadata": {},
   "outputs": [],
   "source": [
    "import pandas as pd"
   ]
  },
  {
   "cell_type": "code",
   "execution_count": 30,
   "metadata": {},
   "outputs": [],
   "source": [
    "train_df = pd.read_csv(train_file_path)\n",
    "test_df = pd.read_csv(test_file_path)"
   ]
  },
  {
   "cell_type": "code",
   "execution_count": 31,
   "metadata": {},
   "outputs": [
    {
     "data": {
      "text/plain": [
       "Index(['class', 'aa_000', 'ab_000', 'ac_000', 'ad_000', 'ae_000', 'af_000',\n",
       "       'ag_000', 'ag_001', 'ag_002',\n",
       "       ...\n",
       "       'ee_002', 'ee_003', 'ee_004', 'ee_005', 'ee_006', 'ee_007', 'ee_008',\n",
       "       'ee_009', 'ef_000', 'eg_000'],\n",
       "      dtype='object', length=171)"
      ]
     },
     "execution_count": 31,
     "metadata": {},
     "output_type": "execute_result"
    }
   ],
   "source": [
    "train_df.columns"
   ]
  },
  {
   "cell_type": "code",
   "execution_count": 32,
   "metadata": {},
   "outputs": [
    {
     "data": {
      "text/plain": [
       "Index(['class', 'aa_000', 'ab_000', 'ac_000', 'ad_000', 'ae_000', 'af_000',\n",
       "       'ag_000', 'ag_001', 'ag_002',\n",
       "       ...\n",
       "       'ee_002', 'ee_003', 'ee_004', 'ee_005', 'ee_006', 'ee_007', 'ee_008',\n",
       "       'ee_009', 'ef_000', 'eg_000'],\n",
       "      dtype='object', length=171)"
      ]
     },
     "execution_count": 32,
     "metadata": {},
     "output_type": "execute_result"
    }
   ],
   "source": [
    "test_df.columns"
   ]
  },
  {
   "cell_type": "code",
   "execution_count": 35,
   "metadata": {},
   "outputs": [],
   "source": [
    "d1= train_df['class']\n",
    "d2= test_df['class']"
   ]
  },
  {
   "cell_type": "code",
   "execution_count": 36,
   "metadata": {},
   "outputs": [
    {
     "data": {
      "text/plain": [
       "KstestResult(statistic=0.0016382839715445296, pvalue=1.0, statistic_location='neg', statistic_sign=1)"
      ]
     },
     "execution_count": 36,
     "metadata": {},
     "output_type": "execute_result"
    }
   ],
   "source": [
    "ks_2samp(d1, d2)"
   ]
  },
  {
   "cell_type": "code",
   "execution_count": 52,
   "metadata": {},
   "outputs": [],
   "source": [
    "def get_drift_report(base_df, current_df, threshold=0.05):\n",
    "    drift_report = {}\n",
    "    for column in base_df.columns:\n",
    "        d1 = base_df[column]\n",
    "        d2 = current_df[column]\n",
    "        is_same_dist = ks_2samp(d1, d2)\n",
    "        if is_same_dist.pvalue >= threshold:\n",
    "            isFound = False\n",
    "        else:\n",
    "            isFound = True\n",
    "        drift_report.update({column: {\n",
    "                \"p_value\": float(is_same_dist.pvalue),\n",
    "                \"drift_status\": isFound,        \n",
    "                }})\n",
    "    return drift_report"
   ]
  },
  {
   "cell_type": "code",
   "execution_count": 53,
   "metadata": {},
   "outputs": [],
   "source": [
    "drift_report = get_drift_report(train_df, test_df)"
   ]
  },
  {
   "cell_type": "code",
   "execution_count": 54,
   "metadata": {},
   "outputs": [
    {
     "data": {
      "text/plain": [
       "{'class': {'p_value': 1.0, 'drift_status': False},\n",
       " 'aa_000': {'p_value': 0.6800706566988108, 'drift_status': False},\n",
       " 'ab_000': {'p_value': 0.9561412902950859, 'drift_status': False},\n",
       " 'ac_000': {'p_value': 0.4062203784762891, 'drift_status': False},\n",
       " 'ad_000': {'p_value': 0.7227784193283602, 'drift_status': False},\n",
       " 'ae_000': {'p_value': 1.0, 'drift_status': False},\n",
       " 'af_000': {'p_value': 1.0, 'drift_status': False},\n",
       " 'ag_000': {'p_value': 0.9999999999977263, 'drift_status': False},\n",
       " 'ag_001': {'p_value': 0.9999998638865856, 'drift_status': False},\n",
       " 'ag_002': {'p_value': 0.9994241736788587, 'drift_status': False},\n",
       " 'ag_003': {'p_value': 0.9366306352112789, 'drift_status': False},\n",
       " 'ag_004': {'p_value': 0.15934814284679666, 'drift_status': False},\n",
       " 'ag_005': {'p_value': 0.8684423345120029, 'drift_status': False},\n",
       " 'ag_006': {'p_value': 0.3978926251415068, 'drift_status': False},\n",
       " 'ag_007': {'p_value': 0.26677920530594523, 'drift_status': False},\n",
       " 'ag_008': {'p_value': 0.5302526743655662, 'drift_status': False},\n",
       " 'ag_009': {'p_value': 0.8155489551762268, 'drift_status': False},\n",
       " 'ah_000': {'p_value': 0.5501408039013752, 'drift_status': False},\n",
       " 'ai_000': {'p_value': 0.9979510456376074, 'drift_status': False},\n",
       " 'aj_000': {'p_value': 0.972550719794349, 'drift_status': False},\n",
       " 'ak_000': {'p_value': 0.9999971344866522, 'drift_status': False},\n",
       " 'al_000': {'p_value': 0.7462832107515298, 'drift_status': False},\n",
       " 'am_0': {'p_value': 0.8480050141017491, 'drift_status': False},\n",
       " 'an_000': {'p_value': 0.41900078913610417, 'drift_status': False},\n",
       " 'ao_000': {'p_value': 0.7077301061680088, 'drift_status': False},\n",
       " 'ap_000': {'p_value': 0.32779577363236134, 'drift_status': False},\n",
       " 'aq_000': {'p_value': 0.20412317243075284, 'drift_status': False},\n",
       " 'ar_000': {'p_value': 0.9999999999943994, 'drift_status': False},\n",
       " 'as_000': {'p_value': 1.0, 'drift_status': False},\n",
       " 'at_000': {'p_value': 0.9916709509337751, 'drift_status': False},\n",
       " 'au_000': {'p_value': 1.0, 'drift_status': False},\n",
       " 'av_000': {'p_value': 0.7550280783892938, 'drift_status': False},\n",
       " 'ax_000': {'p_value': 0.8015392496568159, 'drift_status': False},\n",
       " 'ay_000': {'p_value': 0.9999999999636079, 'drift_status': False},\n",
       " 'ay_001': {'p_value': 0.9999998645770034, 'drift_status': False},\n",
       " 'ay_002': {'p_value': 0.9999999356674111, 'drift_status': False},\n",
       " 'ay_003': {'p_value': 0.9999999997733554, 'drift_status': False},\n",
       " 'ay_004': {'p_value': 0.9999896463212762, 'drift_status': False},\n",
       " 'ay_005': {'p_value': 0.7990641218700376, 'drift_status': False},\n",
       " 'ay_006': {'p_value': 0.8161860361299922, 'drift_status': False},\n",
       " 'ay_007': {'p_value': 0.2902833622723823, 'drift_status': False},\n",
       " 'ay_008': {'p_value': 0.4729573147455788, 'drift_status': False},\n",
       " 'ay_009': {'p_value': 0.9997825923150174, 'drift_status': False},\n",
       " 'az_000': {'p_value': 0.1643041867575269, 'drift_status': False},\n",
       " 'az_001': {'p_value': 0.24411355596738127, 'drift_status': False},\n",
       " 'az_002': {'p_value': 0.07198390302421886, 'drift_status': False},\n",
       " 'az_003': {'p_value': 0.22250826284264735, 'drift_status': False},\n",
       " 'az_004': {'p_value': 0.4764717827646423, 'drift_status': False},\n",
       " 'az_005': {'p_value': 0.48342771300147813, 'drift_status': False},\n",
       " 'az_006': {'p_value': 0.4438527251069687, 'drift_status': False},\n",
       " 'az_007': {'p_value': 0.9955938774947695, 'drift_status': False},\n",
       " 'az_008': {'p_value': 0.9536806425486534, 'drift_status': False},\n",
       " 'az_009': {'p_value': 0.9965785426868046, 'drift_status': False},\n",
       " 'ba_000': {'p_value': 0.6417089508283085, 'drift_status': False},\n",
       " 'ba_001': {'p_value': 0.31693377016001123, 'drift_status': False},\n",
       " 'ba_002': {'p_value': 0.6296659596395262, 'drift_status': False},\n",
       " 'ba_003': {'p_value': 0.8415823656184078, 'drift_status': False},\n",
       " 'ba_004': {'p_value': 0.3745086052215897, 'drift_status': False},\n",
       " 'ba_005': {'p_value': 0.5538293772538274, 'drift_status': False},\n",
       " 'ba_006': {'p_value': 0.6741189510945952, 'drift_status': False},\n",
       " 'ba_007': {'p_value': 0.5275015379366494, 'drift_status': False},\n",
       " 'ba_008': {'p_value': 0.6340471215245215, 'drift_status': False},\n",
       " 'ba_009': {'p_value': 0.9048758047175205, 'drift_status': False},\n",
       " 'bb_000': {'p_value': 0.2591533534979854, 'drift_status': False},\n",
       " 'bc_000': {'p_value': 0.7307484705113598, 'drift_status': False},\n",
       " 'bd_000': {'p_value': 0.653631567131007, 'drift_status': False},\n",
       " 'be_000': {'p_value': 0.6338045886994802, 'drift_status': False},\n",
       " 'bf_000': {'p_value': 0.7748859797308966, 'drift_status': False},\n",
       " 'bg_000': {'p_value': 0.594307566898617, 'drift_status': False},\n",
       " 'bh_000': {'p_value': 0.6136932733927347, 'drift_status': False},\n",
       " 'bi_000': {'p_value': 0.3085366772158932, 'drift_status': False},\n",
       " 'bj_000': {'p_value': 0.37165846391211, 'drift_status': False},\n",
       " 'bk_000': {'p_value': 0.5746487027194593, 'drift_status': False},\n",
       " 'bl_000': {'p_value': 0.9986387253439263, 'drift_status': False},\n",
       " 'bm_000': {'p_value': 0.5070051509711337, 'drift_status': False},\n",
       " 'bn_000': {'p_value': 0.9458539777241463, 'drift_status': False},\n",
       " 'bo_000': {'p_value': 0.770247229008002, 'drift_status': False},\n",
       " 'bp_000': {'p_value': 0.999986305255855, 'drift_status': False},\n",
       " 'bq_000': {'p_value': 0.99843522188836, 'drift_status': False},\n",
       " 'br_000': {'p_value': 0.999999599007407, 'drift_status': False},\n",
       " 'bs_000': {'p_value': 0.32687685630000396, 'drift_status': False},\n",
       " 'bt_000': {'p_value': 0.5812638587844117, 'drift_status': False},\n",
       " 'bu_000': {'p_value': 0.2482059264620462, 'drift_status': False},\n",
       " 'bv_000': {'p_value': 0.2482059264620462, 'drift_status': False},\n",
       " 'bx_000': {'p_value': 0.7971138438809776, 'drift_status': False},\n",
       " 'by_000': {'p_value': 0.6303295277056372, 'drift_status': False},\n",
       " 'bz_000': {'p_value': 0.8954212140865125, 'drift_status': False},\n",
       " 'ca_000': {'p_value': 0.6815595941096793, 'drift_status': False},\n",
       " 'cb_000': {'p_value': 0.28324695614211315, 'drift_status': False},\n",
       " 'cc_000': {'p_value': 0.8092533414541012, 'drift_status': False},\n",
       " 'cd_000': {'p_value': 1.0, 'drift_status': False},\n",
       " 'ce_000': {'p_value': 0.5636553256945852, 'drift_status': False},\n",
       " 'cf_000': {'p_value': 0.5901888151107072, 'drift_status': False},\n",
       " 'cg_000': {'p_value': 0.9123115323569279, 'drift_status': False},\n",
       " 'ch_000': {'p_value': 1.0, 'drift_status': False},\n",
       " 'ci_000': {'p_value': 0.49202129024285357, 'drift_status': False},\n",
       " 'cj_000': {'p_value': 0.5928456364739375, 'drift_status': False},\n",
       " 'ck_000': {'p_value': 0.6329779716149955, 'drift_status': False},\n",
       " 'cl_000': {'p_value': 0.16347763026417073, 'drift_status': False},\n",
       " 'cm_000': {'p_value': 0.1968580950367912, 'drift_status': False},\n",
       " 'cn_000': {'p_value': 0.9999999814855778, 'drift_status': False},\n",
       " 'cn_001': {'p_value': 0.8881222484129323, 'drift_status': False},\n",
       " 'cn_002': {'p_value': 0.6826610607927304, 'drift_status': False},\n",
       " 'cn_003': {'p_value': 0.6112430314952677, 'drift_status': False},\n",
       " 'cn_004': {'p_value': 0.42717986992189927, 'drift_status': False},\n",
       " 'cn_005': {'p_value': 0.3121245850610689, 'drift_status': False},\n",
       " 'cn_006': {'p_value': 0.23745871540138674, 'drift_status': False},\n",
       " 'cn_007': {'p_value': 0.5322506382222261, 'drift_status': False},\n",
       " 'cn_008': {'p_value': 0.4334925691763276, 'drift_status': False},\n",
       " 'cn_009': {'p_value': 0.45803713043494576, 'drift_status': False},\n",
       " 'co_000': {'p_value': 0.9443104509444207, 'drift_status': False},\n",
       " 'cp_000': {'p_value': 0.9487049736757001, 'drift_status': False},\n",
       " 'cq_000': {'p_value': 0.2482059264620462, 'drift_status': False},\n",
       " 'cr_000': {'p_value': 0.994363625886561, 'drift_status': False},\n",
       " 'cs_000': {'p_value': 0.29398624819686103, 'drift_status': False},\n",
       " 'cs_001': {'p_value': 0.7508208780888768, 'drift_status': False},\n",
       " 'cs_002': {'p_value': 0.14895161402536927, 'drift_status': False},\n",
       " 'cs_003': {'p_value': 0.5051944293099186, 'drift_status': False},\n",
       " 'cs_004': {'p_value': 0.3320331940997273, 'drift_status': False},\n",
       " 'cs_005': {'p_value': 0.7928738440265926, 'drift_status': False},\n",
       " 'cs_006': {'p_value': 0.5935889253338745, 'drift_status': False},\n",
       " 'cs_007': {'p_value': 0.534975415763403, 'drift_status': False},\n",
       " 'cs_008': {'p_value': 0.5847856957288464, 'drift_status': False},\n",
       " 'cs_009': {'p_value': 1.0, 'drift_status': False},\n",
       " 'ct_000': {'p_value': 0.6299135042780685, 'drift_status': False},\n",
       " 'cu_000': {'p_value': 0.8541007716295296, 'drift_status': False},\n",
       " 'cv_000': {'p_value': 0.8603277212325041, 'drift_status': False},\n",
       " 'cx_000': {'p_value': 0.6949289244841541, 'drift_status': False},\n",
       " 'cy_000': {'p_value': 0.9971742677777448, 'drift_status': False},\n",
       " 'cz_000': {'p_value': 0.6632106527231404, 'drift_status': False},\n",
       " 'da_000': {'p_value': 0.9999999999684442, 'drift_status': False},\n",
       " 'db_000': {'p_value': 0.7980100002323761, 'drift_status': False},\n",
       " 'dc_000': {'p_value': 0.9284430071099299, 'drift_status': False},\n",
       " 'dd_000': {'p_value': 0.8935895537052486, 'drift_status': False},\n",
       " 'de_000': {'p_value': 0.614838811892343, 'drift_status': False},\n",
       " 'df_000': {'p_value': 0.9998695026457411, 'drift_status': False},\n",
       " 'dg_000': {'p_value': 0.9999998754685387, 'drift_status': False},\n",
       " 'dh_000': {'p_value': 0.9939489056907619, 'drift_status': False},\n",
       " 'di_000': {'p_value': 0.9999999999968993, 'drift_status': False},\n",
       " 'dj_000': {'p_value': 1.0, 'drift_status': False},\n",
       " 'dk_000': {'p_value': 0.9999999925732039, 'drift_status': False},\n",
       " 'dl_000': {'p_value': 0.9999999989373513, 'drift_status': False},\n",
       " 'dm_000': {'p_value': 0.9999999998868356, 'drift_status': False},\n",
       " 'dn_000': {'p_value': 0.5178130741617064, 'drift_status': False},\n",
       " 'do_000': {'p_value': 0.974700521448703, 'drift_status': False},\n",
       " 'dp_000': {'p_value': 0.9622914108372713, 'drift_status': False},\n",
       " 'dq_000': {'p_value': 0.9999988141207489, 'drift_status': False},\n",
       " 'dr_000': {'p_value': 0.9999983435440086, 'drift_status': False},\n",
       " 'ds_000': {'p_value': 0.9773740052065266, 'drift_status': False},\n",
       " 'dt_000': {'p_value': 0.9877249949240708, 'drift_status': False},\n",
       " 'du_000': {'p_value': 0.23380303685711434, 'drift_status': False},\n",
       " 'dv_000': {'p_value': 0.2827871702691128, 'drift_status': False},\n",
       " 'dx_000': {'p_value': 0.9958812108108162, 'drift_status': False},\n",
       " 'dy_000': {'p_value': 0.9458831328585867, 'drift_status': False},\n",
       " 'dz_000': {'p_value': 0.999999999999983, 'drift_status': False},\n",
       " 'ea_000': {'p_value': 1.0, 'drift_status': False},\n",
       " 'eb_000': {'p_value': 0.9059270480372137, 'drift_status': False},\n",
       " 'ec_00': {'p_value': 0.9171201786186772, 'drift_status': False},\n",
       " 'ed_000': {'p_value': 0.5251004201918179, 'drift_status': False},\n",
       " 'ee_000': {'p_value': 0.5616373312292967, 'drift_status': False},\n",
       " 'ee_001': {'p_value': 0.3064748449942779, 'drift_status': False},\n",
       " 'ee_002': {'p_value': 0.3875000343851217, 'drift_status': False},\n",
       " 'ee_003': {'p_value': 0.4545187105872849, 'drift_status': False},\n",
       " 'ee_004': {'p_value': 0.2632155517763146, 'drift_status': False},\n",
       " 'ee_005': {'p_value': 0.7031373389717632, 'drift_status': False},\n",
       " 'ee_006': {'p_value': 0.4740965415321575, 'drift_status': False},\n",
       " 'ee_007': {'p_value': 0.47678583042160616, 'drift_status': False},\n",
       " 'ee_008': {'p_value': 0.7423687275508641, 'drift_status': False},\n",
       " 'ee_009': {'p_value': 0.7242568139475059, 'drift_status': False},\n",
       " 'ef_000': {'p_value': 1.0, 'drift_status': False},\n",
       " 'eg_000': {'p_value': 0.9999999999999998, 'drift_status': False}}"
      ]
     },
     "execution_count": 54,
     "metadata": {},
     "output_type": "execute_result"
    }
   ],
   "source": [
    "drift_report"
   ]
  },
  {
   "cell_type": "code",
   "execution_count": 55,
   "metadata": {},
   "outputs": [],
   "source": [
    "import os"
   ]
  },
  {
   "cell_type": "code",
   "execution_count": 57,
   "metadata": {},
   "outputs": [],
   "source": [
    "write_yaml_file(file_path = os.path.join(os.getcwd(), \"drift_report.yaml\"), content= drift_report, replace = True)"
   ]
  },
  {
   "cell_type": "code",
   "execution_count": null,
   "metadata": {},
   "outputs": [],
   "source": []
  }
 ],
 "metadata": {
  "kernelspec": {
   "display_name": "Python 3",
   "language": "python",
   "name": "python3"
  },
  "language_info": {
   "codemirror_mode": {
    "name": "ipython",
    "version": 3
   },
   "file_extension": ".py",
   "mimetype": "text/x-python",
   "name": "python",
   "nbconvert_exporter": "python",
   "pygments_lexer": "ipython3",
   "version": "3.8.0"
  }
 },
 "nbformat": 4,
 "nbformat_minor": 2
}
